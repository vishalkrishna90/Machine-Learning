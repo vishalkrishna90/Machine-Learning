{
 "cells": [
  {
   "cell_type": "code",
   "execution_count": 2,
   "id": "d54515aa",
   "metadata": {},
   "outputs": [],
   "source": [
    "# import important libraries\n",
    "import pandas as pd\n",
    "import numpy as np\n",
    "import matplotlib.pyplot as plt\n",
    "import seaborn as sns"
   ]
  },
  {
   "cell_type": "code",
   "execution_count": 3,
   "id": "30d589f2",
   "metadata": {},
   "outputs": [],
   "source": [
    "# load dataset from sklearn datasets\n",
    "from sklearn.datasets import load_iris"
   ]
  },
  {
   "cell_type": "code",
   "execution_count": 12,
   "id": "906fdea5",
   "metadata": {},
   "outputs": [],
   "source": [
    "# create dataframe from loaded data\n",
    "dfx = load_iris()\n",
    "df = pd.DataFrame(dfx.data, columns= dfx.feature_names)\n",
    "df['target'] = dfx.target"
   ]
  },
  {
   "cell_type": "code",
   "execution_count": 14,
   "id": "56253236",
   "metadata": {},
   "outputs": [
    {
     "data": {
      "text/html": [
       "<div>\n",
       "<style scoped>\n",
       "    .dataframe tbody tr th:only-of-type {\n",
       "        vertical-align: middle;\n",
       "    }\n",
       "\n",
       "    .dataframe tbody tr th {\n",
       "        vertical-align: top;\n",
       "    }\n",
       "\n",
       "    .dataframe thead th {\n",
       "        text-align: right;\n",
       "    }\n",
       "</style>\n",
       "<table border=\"1\" class=\"dataframe\">\n",
       "  <thead>\n",
       "    <tr style=\"text-align: right;\">\n",
       "      <th></th>\n",
       "      <th>sepal length (cm)</th>\n",
       "      <th>sepal width (cm)</th>\n",
       "      <th>petal length (cm)</th>\n",
       "      <th>petal width (cm)</th>\n",
       "      <th>target</th>\n",
       "    </tr>\n",
       "  </thead>\n",
       "  <tbody>\n",
       "    <tr>\n",
       "      <th>0</th>\n",
       "      <td>5.1</td>\n",
       "      <td>3.5</td>\n",
       "      <td>1.4</td>\n",
       "      <td>0.2</td>\n",
       "      <td>0</td>\n",
       "    </tr>\n",
       "    <tr>\n",
       "      <th>1</th>\n",
       "      <td>4.9</td>\n",
       "      <td>3.0</td>\n",
       "      <td>1.4</td>\n",
       "      <td>0.2</td>\n",
       "      <td>0</td>\n",
       "    </tr>\n",
       "    <tr>\n",
       "      <th>2</th>\n",
       "      <td>4.7</td>\n",
       "      <td>3.2</td>\n",
       "      <td>1.3</td>\n",
       "      <td>0.2</td>\n",
       "      <td>0</td>\n",
       "    </tr>\n",
       "    <tr>\n",
       "      <th>3</th>\n",
       "      <td>4.6</td>\n",
       "      <td>3.1</td>\n",
       "      <td>1.5</td>\n",
       "      <td>0.2</td>\n",
       "      <td>0</td>\n",
       "    </tr>\n",
       "    <tr>\n",
       "      <th>4</th>\n",
       "      <td>5.0</td>\n",
       "      <td>3.6</td>\n",
       "      <td>1.4</td>\n",
       "      <td>0.2</td>\n",
       "      <td>0</td>\n",
       "    </tr>\n",
       "  </tbody>\n",
       "</table>\n",
       "</div>"
      ],
      "text/plain": [
       "   sepal length (cm)  sepal width (cm)  petal length (cm)  petal width (cm)  \\\n",
       "0                5.1               3.5                1.4               0.2   \n",
       "1                4.9               3.0                1.4               0.2   \n",
       "2                4.7               3.2                1.3               0.2   \n",
       "3                4.6               3.1                1.5               0.2   \n",
       "4                5.0               3.6                1.4               0.2   \n",
       "\n",
       "   target  \n",
       "0       0  \n",
       "1       0  \n",
       "2       0  \n",
       "3       0  \n",
       "4       0  "
      ]
     },
     "execution_count": 14,
     "metadata": {},
     "output_type": "execute_result"
    }
   ],
   "source": [
    "df.head()"
   ]
  },
  {
   "cell_type": "code",
   "execution_count": 16,
   "id": "7b5057ef",
   "metadata": {},
   "outputs": [],
   "source": [
    "# split features and target data\n",
    "X = df.drop('target',axis = 1)\n",
    "y = df['target']"
   ]
  },
  {
   "cell_type": "code",
   "execution_count": 17,
   "id": "da02ed14",
   "metadata": {},
   "outputs": [],
   "source": [
    "# split train and test data\n",
    "from sklearn.model_selection import train_test_split\n",
    "X_train,X_test,y_train,y_test = train_test_split(X,y,test_size=0.2)"
   ]
  },
  {
   "cell_type": "code",
   "execution_count": 18,
   "id": "40baa1cd",
   "metadata": {},
   "outputs": [],
   "source": [
    "# import logistic regression for prediction\n",
    "from sklearn.linear_model import LogisticRegression\n",
    "lor = LogisticRegression()"
   ]
  },
  {
   "cell_type": "code",
   "execution_count": 19,
   "id": "3ad5c913",
   "metadata": {},
   "outputs": [
    {
     "name": "stderr",
     "output_type": "stream",
     "text": [
      "C:\\Users\\mridh\\anaconda3\\lib\\site-packages\\sklearn\\linear_model\\_logistic.py:763: ConvergenceWarning: lbfgs failed to converge (status=1):\n",
      "STOP: TOTAL NO. of ITERATIONS REACHED LIMIT.\n",
      "\n",
      "Increase the number of iterations (max_iter) or scale the data as shown in:\n",
      "    https://scikit-learn.org/stable/modules/preprocessing.html\n",
      "Please also refer to the documentation for alternative solver options:\n",
      "    https://scikit-learn.org/stable/modules/linear_model.html#logistic-regression\n",
      "  n_iter_i = _check_optimize_result(\n"
     ]
    },
    {
     "data": {
      "text/plain": [
       "LogisticRegression()"
      ]
     },
     "execution_count": 19,
     "metadata": {},
     "output_type": "execute_result"
    }
   ],
   "source": [
    "# model fit on data\n",
    "lor.fit(X_train,y_train)"
   ]
  },
  {
   "cell_type": "code",
   "execution_count": 20,
   "id": "a9e0651b",
   "metadata": {},
   "outputs": [],
   "source": [
    "# data prediction\n",
    "y_pred = lor.predict(X_test)"
   ]
  },
  {
   "cell_type": "code",
   "execution_count": 21,
   "id": "5ffaba40",
   "metadata": {},
   "outputs": [
    {
     "data": {
      "text/plain": [
       "array([[9.83661907e-01, 1.63380748e-02, 1.77023341e-08],\n",
       "       [9.75544858e-01, 2.44550589e-02, 8.27859364e-08],\n",
       "       [2.58379940e-02, 9.19517118e-01, 5.46448884e-02],\n",
       "       [8.27522328e-02, 9.07119304e-01, 1.01284632e-02],\n",
       "       [9.73361478e-01, 2.66384305e-02, 9.17450643e-08],\n",
       "       [2.93582978e-01, 7.04637991e-01, 1.77903033e-03],\n",
       "       [9.49508664e-01, 5.04909263e-02, 4.10011327e-07],\n",
       "       [1.21123296e-04, 1.42585514e-01, 8.57293362e-01],\n",
       "       [9.77222413e-01, 2.27775451e-02, 4.15386307e-08],\n",
       "       [6.80454433e-08, 5.20364494e-03, 9.94796287e-01],\n",
       "       [2.89763650e-03, 7.56877422e-01, 2.40224942e-01],\n",
       "       [1.30895918e-04, 5.74348103e-02, 9.42434294e-01],\n",
       "       [9.47435504e-05, 7.15395435e-02, 9.28365713e-01],\n",
       "       [9.81096741e-01, 1.89032152e-02, 4.33347178e-08],\n",
       "       [7.08604382e-03, 9.04835336e-01, 8.80786199e-02],\n",
       "       [1.35695374e-06, 2.25640145e-02, 9.77434629e-01],\n",
       "       [1.20750205e-07, 5.60317066e-03, 9.94396709e-01],\n",
       "       [4.39435708e-03, 8.27546001e-01, 1.68059642e-01],\n",
       "       [2.72612580e-05, 1.37006709e-01, 8.62966030e-01],\n",
       "       [6.70590433e-04, 3.35268694e-01, 6.64060716e-01],\n",
       "       [2.31491953e-03, 4.52882220e-01, 5.44802860e-01],\n",
       "       [9.74524943e-01, 2.54750104e-02, 4.70363898e-08],\n",
       "       [1.51657374e-03, 7.03174196e-01, 2.95309231e-01],\n",
       "       [9.84917557e-01, 1.50824234e-02, 1.93394464e-08],\n",
       "       [2.49833776e-02, 9.41011347e-01, 3.40052754e-02],\n",
       "       [8.91913856e-04, 3.88662766e-01, 6.10445320e-01],\n",
       "       [6.94129590e-05, 1.09112407e-01, 8.90818180e-01],\n",
       "       [2.97402940e-03, 8.56136290e-01, 1.40889681e-01],\n",
       "       [3.42721017e-02, 9.42343886e-01, 2.33840119e-02],\n",
       "       [2.33112245e-02, 9.50668677e-01, 2.60200987e-02]])"
      ]
     },
     "execution_count": 21,
     "metadata": {},
     "output_type": "execute_result"
    }
   ],
   "source": [
    "# predicted values probability\n",
    "lor.predict_proba(X_test)"
   ]
  },
  {
   "cell_type": "code",
   "execution_count": 22,
   "id": "5c0c7c7c",
   "metadata": {},
   "outputs": [
    {
     "data": {
      "text/plain": [
       "array([[-0.40242189,  0.86382491, -2.42914616, -0.98080153],\n",
       "       [ 0.4891101 , -0.17605668, -0.21498089, -0.79109037],\n",
       "       [-0.0866882 , -0.68776823,  2.64412705,  1.77189191]])"
      ]
     },
     "execution_count": 22,
     "metadata": {},
     "output_type": "execute_result"
    }
   ],
   "source": [
    "# coefficients\n",
    "lor.coef_"
   ]
  },
  {
   "cell_type": "code",
   "execution_count": 23,
   "id": "ebaacbe6",
   "metadata": {},
   "outputs": [
    {
     "data": {
      "text/plain": [
       "array([  9.66929889,   1.74653548, -11.41583436])"
      ]
     },
     "execution_count": 23,
     "metadata": {},
     "output_type": "execute_result"
    }
   ],
   "source": [
    "# intercepts\n",
    "lor.intercept_"
   ]
  },
  {
   "cell_type": "code",
   "execution_count": 40,
   "id": "4f12ce3e",
   "metadata": {},
   "outputs": [
    {
     "name": "stdout",
     "output_type": "stream",
     "text": [
      "Auroc Score: 0.9935802469135803\n",
      "Accuracy Score: 0.9666666666666667\n"
     ]
    }
   ],
   "source": [
    "# import performance metrics to check performance of our model\n",
    "from sklearn.metrics import roc_auc_score, accuracy_score\n",
    "print('Auroc Score:', roc_auc_score(y_test,lor.predict_proba(X_test), multi_class='ovr'))\n",
    "print('Accuracy Score:',accuracy_score(y_test,y_pred))"
   ]
  },
  {
   "cell_type": "code",
   "execution_count": 32,
   "id": "6955877b",
   "metadata": {},
   "outputs": [
    {
     "data": {
      "text/plain": [
       "<seaborn.axisgrid.FacetGrid at 0x1cef2fbda00>"
      ]
     },
     "execution_count": 32,
     "metadata": {},
     "output_type": "execute_result"
    },
    {
     "data": {
      "image/png": "[encoded data removed]",
      "text/plain": [
       "<Figure size 360x360 with 1 Axes>"
      ]
     },
     "metadata": {
      "needs_background": "light"
     },
     "output_type": "display_data"
    }
   ],
   "source": [
    "# check difference between actual and predicted points by displot\n",
    "sns.displot(y_pred-y_test, kind = 'kde')"
   ]
  },
  {
   "cell_type": "code",
   "execution_count": null,
   "id": "0893b52a",
   "metadata": {},
   "outputs": [],
   "source": []
  }
 ],
 "metadata": {
  "kernelspec": {
   "display_name": "Python 3 (ipykernel)",
   "language": "python",
   "name": "python3"
  },
  "language_info": {
   "codemirror_mode": {
    "name": "ipython",
    "version": 3
   },
   "file_extension": ".py",
   "mimetype": "text/x-python",
   "name": "python",
   "nbconvert_exporter": "python",
   "pygments_lexer": "ipython3",
   "version": "3.9.7"
  }
 },
 "nbformat": 4,
 "nbformat_minor": 5
}
